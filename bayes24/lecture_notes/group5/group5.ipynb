{
 "cells": [
  {
   "cell_type": "markdown",
   "id": "6460d2b9d26b1e20",
   "metadata": {},
   "source": [
    "# Chapter 5 - Focus on priors\n",
    "- Conjugate priors: a few examples where Bayesian stats can be done with pen and paper\n",
    "- Comparison of importance between prior and new data \n",
    "- Flat priors and uninformative priors \n"
   ]
  },
  {
   "cell_type": "markdown",
   "id": "4d00350f",
   "metadata": {},
   "source": [
    "Temporary block - Emma hoi waarom werkt het niet. nieuwe test"
   ]
  },
  {
   "cell_type": "markdown",
   "id": "82ad687a",
   "metadata": {},
   "source": [
    "Temporary block - Daan\n",
    "\n",
    "hallo"
   ]
  },
  {
   "cell_type": "markdown",
   "id": "b923fe99",
   "metadata": {},
   "source": [
    "# Notes\n",
    "- we call the prior distribution $\\pi\\left(\\theta_i\\right)$"
   ]
  },
  {
   "cell_type": "markdown",
   "id": "dd762fd1",
   "metadata": {},
   "source": [
    "\n",
    "## What is a prior\n",
    "In short, a prior is an assumed probability distribution before data/measurement, hereafter called evidence, is taken into account.\n",
    "\n",
    "\n"
   ]
  },
  {
   "cell_type": "markdown",
   "id": "1ce0afc1",
   "metadata": {},
   "source": [
    "## Strength of a prior\n",
    "### Strong prior\n",
    "\n",
    "\n",
    "### Weak prior\n"
   ]
  },
  {
   "cell_type": "markdown",
   "id": "413323dc",
   "metadata": {},
   "source": [
    "## Type of priors\n",
    "### Informative priors\n",
    "Informative priors convey information about one or more variables in your statsitical model. Often the posterior of previous experiments/analyses is used as the prior of current future experiments/analyses.\n",
    "\n",
    "This has the goal that over time the posterior will be dominated by data, rather then the underlying assumptions made by a weakly informing prior. \n",
    "\n",
    "In short, an infomative prior can be setup if substantial existing information is present, improving the estimate and inference about parameter $\\theta_i$, in prior distribution $\\pi\\left(\\theta_i\\right)$\n",
    "\n",
    "### Weakly informative priors\n",
    "Rather then building upon an informative prior, a weakly informative prior only builds on rought estimates and information known about the aforementioend parimiters.\n",
    "\n",
    "It is important to take into the account the inherint objectivity that choosin such a prior brings. And during the process of choosing a prior it is important to not constrain the result and prevent extremities.\n",
    "\n",
    "As such the construction of a weakly informative prior is as follows (Gelman et al., 2021):\n",
    "* Start with some version of a noninformative prior distribution and then add enough information so that inferences are constrained to be reasonable.\n",
    "* Start with a strong, highly informative prior and broaden it to account for uncertainty in one’s prior beliefs and in the applicability of any historically based prior distribution to new data.\n",
    "\n",
    "--- insert example of a weakly informative prior ---\n",
    "\n",
    "### Improper priors\n",
    "An improper, or rather a non-informative, prior is a prior which cannot be a proper probability density. As for prior probabily density $\\pi\\left(\\theta_i\\right)$ the following can be said:\n",
    "\n",
    "\\begin{equation}\n",
    "\\int \\pi \\left(\\theta\\right) \\text{d} \\theta  \\neq 1\n",
    "\\end{equation}\n",
    "\n",
    "**Example:** an example for which this is the case is a *flat prior*. Where $\\pi\\left(\\theta_i\\right) \\propto \\text{constant}$.\n",
    "\n",
    "Improper priors are usually unproblematic, as the resulting posterior will be a proper probability density.\n",
    "\n",
    "--- insert example of an improper prior ---\n"
   ]
  },
  {
   "cell_type": "markdown",
   "id": "dced3803",
   "metadata": {},
   "source": []
  }
 ],
 "metadata": {
  "kernelspec": {
   "display_name": "Python 3 (ipykernel)",
   "language": "python",
   "name": "python3"
  },
  "language_info": {
   "codemirror_mode": {
    "name": "ipython",
    "version": 3
   },
   "file_extension": ".py",
   "mimetype": "text/x-python",
   "name": "python",
   "nbconvert_exporter": "python",
   "pygments_lexer": "ipython3",
   "version": "3.12.4"
  }
 },
 "nbformat": 4,
 "nbformat_minor": 5
}
