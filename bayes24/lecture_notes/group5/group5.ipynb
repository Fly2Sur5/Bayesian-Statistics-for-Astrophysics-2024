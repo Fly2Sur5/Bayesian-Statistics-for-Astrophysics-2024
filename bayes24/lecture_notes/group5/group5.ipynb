{
 "cells": [
  {
   "cell_type": "markdown",
   "id": "6460d2b9d26b1e20",
   "metadata": {},
   "source": [
    "# Chapter 5 - Focus on priors\n",
    "- Conjugate priors: a few examples where Bayesian stats can be done with pen and paper\n",
    "- Comparison of importance between prior and new data \n",
    "- Flat priors and uninformative priors \n"
   ]
  },
  {
   "cell_type": "markdown",
   "id": "4d00350f",
   "metadata": {},
   "source": [
    "Temporary block - Emma"
   ]
  },
  {
   "cell_type": "markdown",
   "id": "82ad687a",
   "metadata": {},
   "source": [
    "Temporary block - Daan"
   ]
  },
  {
   "cell_type": "markdown",
   "id": "252a279143ac9831",
   "metadata": {},
   "source": [
    "Temporary block - Chloe"
   ]
  }
 ],
 "metadata": {
  "kernelspec": {
   "display_name": "Python 3",
   "language": "python",
   "name": "python3"
  },
  "language_info": {
   "codemirror_mode": {
    "name": "ipython",
    "version": 2
   },
   "file_extension": ".py",
   "mimetype": "text/x-python",
   "name": "python",
   "nbconvert_exporter": "python",
   "pygments_lexer": "ipython2",
   "version": "2.7.6"
  }
 },
 "nbformat": 4,
 "nbformat_minor": 5
}
