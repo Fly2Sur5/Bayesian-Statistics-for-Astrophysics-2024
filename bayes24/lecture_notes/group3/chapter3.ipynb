{
 "cells": [
  {
   "cell_type": "markdown",
   "source": [
    "# Chapter 3: Mathematical foundations of statistics"
   ],
   "metadata": {
    "collapsed": false
   },
   "id": "3d303553e1d72eea"
  },
  {
   "cell_type": "markdown",
   "source": [
    "## Sample Spaces"
   ],
   "metadata": {
    "collapsed": false
   },
   "id": "433dc0d71a2be92e"
  },
  {
   "cell_type": "markdown",
   "source": [
    "## Derivation of Bayes theorem\n",
    "\n",
    "### Rule of conditional probability"
   ],
   "metadata": {
    "collapsed": false
   },
   "id": "c454f37c2b6d8da6"
  },
  {
   "cell_type": "markdown",
   "source": [
    "## Law of total probability \n",
    "\n",
    "### Proof of marginalization"
   ],
   "metadata": {
    "collapsed": false
   },
   "id": "c24cf97bdcfc916f"
  },
  {
   "cell_type": "markdown",
   "source": [
    "## The difference between frequentist and Bayesian views\n",
    "\n",
    "### Probability"
   ],
   "metadata": {
    "collapsed": false
   },
   "id": "edbc401009b25c53"
  },
  {
   "cell_type": "markdown",
   "source": [
    "### Statistical interference"
   ],
   "metadata": {
    "collapsed": false
   },
   "id": "80e632c06aa889b6"
  },
  {
   "cell_type": "code",
   "execution_count": null,
   "outputs": [],
   "source": [],
   "metadata": {
    "collapsed": false
   },
   "id": "312cad331e6df035"
  }
 ],
 "metadata": {
  "kernelspec": {
   "display_name": "Python 3",
   "language": "python",
   "name": "python3"
  },
  "language_info": {
   "codemirror_mode": {
    "name": "ipython",
    "version": 2
   },
   "file_extension": ".py",
   "mimetype": "text/x-python",
   "name": "python",
   "nbconvert_exporter": "python",
   "pygments_lexer": "ipython2",
   "version": "2.7.6"
  }
 },
 "nbformat": 4,
 "nbformat_minor": 5
}
