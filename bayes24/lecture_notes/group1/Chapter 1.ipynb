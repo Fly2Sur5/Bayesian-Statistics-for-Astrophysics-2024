{
 "cells": [
  {
   "metadata": {},
   "cell_type": "markdown",
   "source": "# Chapter 1: Hypothesis Testing & Maximum Likelihood\n",
   "id": "15986c3a895a01a7"
  },
  {
   "metadata": {
    "collapsed": false
   },
   "cell_type": "markdown",
   "source": [
    "In this chapter we'll explore hypothesis testing.\n",
    "- Hypothesis testing including:\n",
    "    - p-values\n",
    "    - pro's and cons\n",
    "- Maximum likelihood including:\n",
    "    - Connection to least-squares\n",
    "    - Connection to generative model (e.g., Hogg et al. article)\n",
    "    - Confidence intervals (\"a frequentist recipe\")"
   ],
   "id": "283ccdf132b170ad"
  },
  {
   "cell_type": "code",
   "execution_count": null,
   "id": "82d49440c49d0580",
   "metadata": {
    "collapsed": false,
    "jupyter": {
     "is_executing": true
    }
   },
   "outputs": [],
   "source": []
  }
 ],
 "metadata": {
  "kernelspec": {
   "display_name": "Python 3 (ipykernel)",
   "language": "python",
   "name": "python3"
  },
  "language_info": {
   "codemirror_mode": {
    "name": "ipython",
    "version": 3
   },
   "file_extension": ".py",
   "mimetype": "text/x-python",
   "name": "python",
   "nbconvert_exporter": "python",
   "pygments_lexer": "ipython3",
   "version": "3.9.17"
  }
 },
 "nbformat": 4,
 "nbformat_minor": 5
}
