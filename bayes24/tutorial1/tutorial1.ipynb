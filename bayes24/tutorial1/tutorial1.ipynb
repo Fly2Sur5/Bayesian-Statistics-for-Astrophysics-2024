{
 "cells": [
  {
   "cell_type": "markdown",
   "id": "f4ae035a-d2b3-4c21-9673-8996594fca0d",
   "metadata": {},
   "source": [
    "# Tutorial 1: Version Control with Git\n",
    "\n",
    "\n",
    "[![View notebook on Github](https://img.shields.io/static/v1.svg?logo=github&label=Repo&message=View%20On%20Github&color=lightgrey)](https://github.com/t-kist/Bayesian-Statistics-for-Astrophysics-2024/blob/main/bayes24/tutorial1/tutorial1.ipynb)\n",
    "[![View on RTD](https://img.shields.io/static/v1.svg?logo=readthedocs&label=RTD&message=View%20On%20RTD&color=8CA1AF)](https://bayesian-statistics-for-astrophysics-2024.readthedocs.io/en/latest/tutorial1/tutorial1.html)"
   ]
  },
  {
   "cell_type": "markdown",
   "id": "c3f1c3a8670fd28c",
   "metadata": {},
   "source": [
    "All our course materials will be hosted in this GitHub repostitory. Today we will learn how to use Git to clone the repository to your local machine, and how to push and pull updates to/from the repository."
   ]
  },
  {
   "cell_type": "markdown",
   "id": "c621c604-1273-463b-850a-8d2a99178741",
   "metadata": {},
   "source": [
    "## Required software"
   ]
  },
  {
   "cell_type": "markdown",
   "id": "dee418e6-7e38-4c5d-9e89-f7264340b0b3",
   "metadata": {},
   "source": [
    "### Git"
   ]
  },
  {
   "cell_type": "markdown",
   "id": "ef919397525dd3f2",
   "metadata": {},
   "source": [
    "Let's start by installing Git if you haven't done so already. Go to https://git-scm.com/book/en/v2/Getting-Started-Installing-Git and follow the instructions for your operating system."
   ]
  },
  {
   "cell_type": "markdown",
   "id": "89700343a816b7b1",
   "metadata": {},
   "source": [
    "Git itself is an open-source command-line version control tool. To collaborate with others on the same codebase, we will use GitHub, a web-based Git repository hosting service. (Note that this is not the only option; there are many competitors such as GitLab and Bitbucket.)"
   ]
  },
  {
   "cell_type": "markdown",
   "id": "979cc720-86ca-45b0-8930-f8293e48ab89",
   "metadata": {},
   "source": [
    "### Github"
   ]
  },
  {
   "cell_type": "markdown",
   "id": "988b4ffdd170b9fa",
   "metadata": {},
   "source": [
    "You can create a GitHub account by following this link: https://github.com. In fact, as a student, you are even entitled to a free GitHub Pro account with some additional features. You can apply for the Student Developer Pack here: https://education.github.com/pack."
   ]
  },
  {
   "cell_type": "markdown",
   "id": "7b512d8b6bb52801",
   "metadata": {},
   "source": [
    "Once you have Git installed and a GitHub account, you can clone this repository to your local machine. Open a terminal, cd to the directory where you would like to store your Git repositories, e.g. ~/python, and type the following command:"
   ]
  },
  {
   "cell_type": "code",
   "execution_count": null,
   "id": "23d72a84-2f6a-49f4-bbf1-25250389c9d8",
   "metadata": {},
   "outputs": [],
   "source": [
    "git clone https://github.com/t-kist/Bayesian-Statistics-for-Astrophysics-2024.git"
   ]
  },
  {
   "cell_type": "markdown",
   "id": "a6803de5-a548-4d0d-a337-435baad3c3df",
   "metadata": {},
   "source": [
    "### Python"
   ]
  },
  {
   "cell_type": "markdown",
   "id": "f4b3137b7af22465",
   "metadata": {},
   "source": [
    "To work with the code, you will need python (which you have probably already used before). To avoid conflicts with other projects that you might be working on, we will create a separate virtual python environment for this course. To do this, we will use Miniconda, but you can also use other alternatives if you're using them already. To install Miniconda, go to https://docs.anaconda.com/miniconda/miniconda-install/ and follow the instructions for your operating system."
   ]
  },
  {
   "cell_type": "markdown",
   "id": "c5ef978cb66005d4",
   "metadata": {},
   "source": [
    "Now you can create a new conda environment by running the following command in the terminal:"
   ]
  },
  {
   "cell_type": "code",
   "execution_count": null,
   "id": "4bc78017-3164-4296-b183-6bfc3c15550f",
   "metadata": {},
   "outputs": [],
   "source": [
    "conda create -n bayes24 python=3.9"
   ]
  },
  {
   "cell_type": "markdown",
   "id": "39b4d15e34b40ac0",
   "metadata": {},
   "source": [
    "To activate the environment, type:"
   ]
  },
  {
   "cell_type": "code",
   "execution_count": null,
   "id": "7c4d29a6-0a5c-472d-9d84-f7aae3d5d599",
   "metadata": {},
   "outputs": [],
   "source": [
    "conda activate bayes24"
   ]
  },
  {
   "cell_type": "markdown",
   "id": "f77bfa20-5ca2-4ccf-9d35-bb89eeaa825f",
   "metadata": {},
   "source": [
    "Now change to your cloned Bayesian-Statistics-for-Astrophysics-2024 directory and type:"
   ]
  },
  {
   "cell_type": "code",
   "execution_count": null,
   "id": "1e2d6101-a2e8-4a80-b91b-bc4d2dcd486e",
   "metadata": {},
   "outputs": [],
   "source": [
    "pip install -e ."
   ]
  },
  {
   "cell_type": "markdown",
   "id": "a43e117d-854d-4581-b30a-379621500ba3",
   "metadata": {},
   "source": [
    "Now you should be able to open this notebook in"
   ]
  },
  {
   "cell_type": "code",
   "execution_count": null,
   "id": "a8c222c1-5ac5-49e1-9586-7144b1f51661",
   "metadata": {},
   "outputs": [],
   "source": [
    "jupyter notebook"
   ]
  },
  {
   "cell_type": "markdown",
   "id": "ef0196c9-2d7f-4492-9004-0de7cb65c96b",
   "metadata": {},
   "source": [
    "### Optional: Integrated Devoloping Environments"
   ]
  },
  {
   "cell_type": "markdown",
   "id": "6c380491-987b-47d1-ade2-0b1e9e62634c",
   "metadata": {},
   "source": [
    "In this course, we will mainly be working with notebooks such as this one which you can easily view and execute using jupyter notebook. As an alternative, you can also work with more sophisticated Integrated Devoloping Environments (IDEs) such as VS Code (https://code.visualstudio.com) or PyCharm (https://www.jetbrains.com/pycharm/)."
   ]
  },
  {
   "cell_type": "markdown",
   "id": "fcf3a09d-3517-410d-b0d8-7a605866ad9d",
   "metadata": {},
   "source": [
    "Especially PyCharm is useful as it comes with integrated Git support that saves you from having to use the command line. You can apply for a free student license here: https://www.jetbrains.com/community/education/#students."
   ]
  },
  {
   "cell_type": "markdown",
   "id": "3004b1b5-0928-4c23-9d2d-90c4da8b1d28",
   "metadata": {},
   "source": [
    "## Learning the Git basics"
   ]
  },
  {
   "cell_type": "markdown",
   "id": "162324ee-bc17-4b61-8498-0a099bb212ab",
   "metadata": {},
   "source": [
    "After following all the steps from above, you all set to learn the basics of Git. There are many tutorials and cheat-sheets, for example this one: https://training.github.com/downloads/github-git-cheat-sheet.pdf"
   ]
  },
  {
   "cell_type": "markdown",
   "id": "1724dd23-57cb-4a30-b43f-31739f195fba",
   "metadata": {},
   "source": [
    "We will practise this based on a very simple exercise. The function below (which is defined in Bayesian-Statistics-for-Astrophysics-2024/bayes24/tutorial1/utils.py) prints out the favorite number of a given person. If all installations work correctly, you should now be able to run the following lines:"
   ]
  },
  {
   "cell_type": "code",
   "execution_count": 2,
   "id": "873d420fee66a72d",
   "metadata": {
    "jupyter": {
     "is_executing": true
    }
   },
   "outputs": [],
   "source": [
    "from bayes24.tutorial1.utils import get_favorite_number"
   ]
  },
  {
   "cell_type": "code",
   "execution_count": 15,
   "id": "cb0a4f406ee396eb",
   "metadata": {},
   "outputs": [
    {
     "data": {
      "text/plain": [
       "3.141592653589793"
      ]
     },
     "execution_count": 15,
     "metadata": {},
     "output_type": "execute_result"
    }
   ],
   "source": [
    "get_favorite_number('Alice')"
   ]
  },
  {
   "cell_type": "code",
   "execution_count": 16,
   "id": "846054a2-5053-4140-a127-93177470a564",
   "metadata": {},
   "outputs": [
    {
     "data": {
      "text/plain": [
       "83"
      ]
     },
     "execution_count": 16,
     "metadata": {},
     "output_type": "execute_result"
    }
   ],
   "source": [
    "get_favorite_number('Bob')"
   ]
  },
  {
   "cell_type": "code",
   "execution_count": 17,
   "id": "a06936d2-e185-45b1-979c-10681af47104",
   "metadata": {},
   "outputs": [
    {
     "data": {
      "text/plain": [
       "42"
      ]
     },
     "execution_count": 17,
     "metadata": {},
     "output_type": "execute_result"
    }
   ],
   "source": [
    "get_favorite_number('Timo')"
   ]
  },
  {
   "cell_type": "markdown",
   "id": "cb49d7bc-0436-46ac-b10b-62d7236d17f8",
   "metadata": {},
   "source": [
    "Now imagine you would like to extend its functionality to also print out your own favorite number."
   ]
  },
  {
   "cell_type": "markdown",
   "id": "1d83721c-c4b0-4095-a6e1-03bae2c860f7",
   "metadata": {},
   "source": [
    "To avoid interfering with the main version of the code (the main branch), you always create an own branch on which you implement and test the new features that you would like to add. Once everything is running stably, you create a pull request, asking for your changes to be merged into the main branch."
   ]
  },
  {
   "cell_type": "markdown",
   "id": "1c41aa05-fd38-40d9-b78f-a3a0afb13011",
   "metadata": {},
   "source": [
    "To do so, you start by generating your own branch by typing"
   ]
  },
  {
   "cell_type": "code",
   "execution_count": null,
   "id": "d585d95f-e3ba-4e57-aa39-c63a4af0abaf",
   "metadata": {},
   "outputs": [],
   "source": [
    "git branch [branch-name]"
   ]
  },
  {
   "cell_type": "markdown",
   "id": "0190e713-a976-4f59-b63f-8dbef3ca25fa",
   "metadata": {},
   "source": [
    "You switch to this branch using"
   ]
  },
  {
   "cell_type": "code",
   "execution_count": null,
   "id": "064d9bd8-7bc9-4890-8476-e83dc6f7d5cd",
   "metadata": {},
   "outputs": [],
   "source": [
    "git checkout [branch-name]"
   ]
  },
  {
   "cell_type": "markdown",
   "id": "7da15200-fa9f-4771-b7d8-fa11da104d1d",
   "metadata": {},
   "source": [
    "Now you can start developing on your new branch. Once you're done, you have to commit and push your changes to the server by typing"
   ]
  },
  {
   "cell_type": "code",
   "execution_count": null,
   "id": "0b7ccbd3-1ad9-45fb-a7a9-8fb9755e26af",
   "metadata": {},
   "outputs": [],
   "source": [
    "git commit -m \"[descriptive message]\"\n",
    "git push"
   ]
  },
  {
   "cell_type": "code",
   "execution_count": null,
   "id": "3ad679f1-3cf6-4262-a390-8462e7f6ed96",
   "metadata": {},
   "outputs": [],
   "source": []
  }
 ],
 "metadata": {
  "kernelspec": {
   "display_name": "Python 3 (ipykernel)",
   "language": "python",
   "name": "python3"
  },
  "language_info": {
   "codemirror_mode": {
    "name": "ipython",
    "version": 3
   },
   "file_extension": ".py",
   "mimetype": "text/x-python",
   "name": "python",
   "nbconvert_exporter": "python",
   "pygments_lexer": "ipython3",
   "version": "3.9.19"
  }
 },
 "nbformat": 4,
 "nbformat_minor": 5
}
